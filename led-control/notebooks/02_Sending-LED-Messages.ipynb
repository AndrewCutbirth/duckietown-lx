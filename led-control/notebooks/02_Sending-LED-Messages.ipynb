{
 "cells": [
  {
   "cell_type": "markdown",
   "metadata": {},
   "source": [
    "<p align=\"center\">\n",
    "<img src=\"../assets/images/dtlogo.png\" alt=\"Duckietown Logo\" width=\"50%\">\n",
    "</p>"
   ]
  },
  {
   "cell_type": "markdown",
   "metadata": {},
   "source": [
    "# Sending LED Messages with ROS\n",
    "\n",
    "Now we can use the `LEDPattern` message that we defined in the first notebook to change the LEDs on the Duckiebot using ROS tools.\n",
    "\n",
    "In this notebook, we'll use the `dt-gui-tools` interface to send ROS messages directly to the Duckiebot via the command line.\n",
    "\n",
    "<p align=\"center\">\n",
    "<img src=\"../assets/images/lit_duckiebot.jpg\" alt=\"Duckietown Logo\" width=\"50%\">\n",
    "</p>\n",
    "\n",
    "🔴 TODO: Update this notebook with new commands and msg names - led emitter should use a different topic name to comm w/ led_driver\n",
    "\n",
    "---"
   ]
  },
  {
   "cell_type": "markdown",
   "metadata": {},
   "source": [
    "## Step 1: Tracing the Message Route\n",
    "\n",
    "Who will actually read the LED messages when we send them? \n",
    "\n",
    "The Duckiebot is running an *led_emitter* ROS node which provides the [ROS service](http://wiki.ros.org/Services) *SetCustomLEDPattern*.  \n",
    "\n",
    "If we call this service and provide an `LEDPattern` message, the emitter will construct and publish messages for the *led_driver_node*, which updates the individual LEDs.  The following graph illustrates this relationship\n",
    "\n",
    "<p align=\"center\">\n",
    "<img src=\"../assets/images/rqt.png\" alt=\"Duckietown LED Nodes\" width=\"50%\">\n",
    "</p>\n",
    "\n",
    "The *led_emitter* node is communicating with a few diagnostics topics and passing `LEDPattern` messsages to the *led_driver* node.\n",
    "\n",
    "**Note:** You can view the full ROS graph with all active nodes and messages on the Duckiebot dashboard under the *Architecture* tab."
   ]
  },
  {
   "cell_type": "markdown",
   "metadata": {},
   "source": [
    "## Step 2: Talking to the LED Driver\n",
    "\n",
    "Before using the *SetCustomLEDPattern* service, let's explore the system at a lower level by passing our own messages directly to the *led_driver* node.\n",
    "\n",
    "To update the LEDs using the command line, first run \n",
    "\n",
    "    dts start_gui_tools <your_duckiebot>\n",
    "\n",
    "to obtain a terminal (container actually) that is connected to the Duckiebot ROS network. In this terminal you can perform all ROS commands and have access to all ROS messages streaming on your Duckiebot.\n",
    "\n",
    "In the same terminal (now connected to the Duckiebot container), run\n",
    "\n",
    "    rostopic list\n",
    "\n",
    "to see a list of the published ROS topics on the Duckiebot.\n",
    "\n",
    "You should see `/<your_duckiebot>/led_emitter_node/led_pattern` included in this list.  The *led_driver* node running on the Duckiebot is subscribed to this topic and will set the LEDs to their new values when the emitter publishes an `LEDPattern` message.\n",
    "\n",
    "To confirm this, run\n",
    "\n",
    "    rostopic info /your_duckiebot/led_emitter_node/led_pattern\n",
    "\n",
    "you should see that the topic handles `Type: duckietown_msgs/LEDPattern`, is published by `led_emitter_node`, and subscribed to by `led_driver_node`.\n",
    "\n",
    "The *led_driver* node is looking at the **rgb_vals** in this message to update each LED.\n",
    "\n",
    "Publish your own message that will trigger a change to the LED colors with `rostopic pub` by running\n",
    "\n",
    "    rostopic pub /<your_duckiebot>/led_emitter_node/led_pattern duckietown_msgs/LEDPattern \"{rgb_vals: [{r: 1.0, g: 0.0, b: 0.0, a: 1.0}, {r: 1.0, g: 0.0, b: 0.0, a: 1.0}, {r: 0.0, g: 1.0, b: 0.0, a: 1.0}, {r: 0.0, g: 1.0, b: 0.0, a: 1.0}, {r: 1.0, g: 0.0, b: 0.0, a: 1.0}]}\"\n",
    "\n",
    "You should see the left LEDs are now red, while the right LEDs are green.  \n",
    "\n",
    "<p align=\"center\">\n",
    "<img src=\"../assets/images/green_red.jpg\" alt=\"Duckietown LEDs Green and Red\" width=\"50%\">\n",
    "</p>\n",
    "\n",
    "Try playing with a few different color combinations."
   ]
  },
  {
   "cell_type": "markdown",
   "metadata": {},
   "source": [
    "## Step 3: Talking to the LED Emitter\n",
    "\n",
    "You'll notice that you are missing some features by communicating directly with the *led_driver* node, because you are simply setting the state of individual LEDs.  For example, you won't be able to set a frequency for the LEDs to blink at - more complex behavior like this is handled by the `led_emitter`.\n",
    "\n",
    "We need the *led_emitter* node to provide the logic required to create LED patterns and translate these behaviors into simple messages for the *led_driver* node.\n",
    "\n",
    "This is where the *SetCustomLEDPattern* service comes in.  We can tell the *led_emitter* to handle custom patterns with features such as frequency and intensity by calling the service and providing an `LEDPattern` message.\n",
    "\n",
    "Call the service using `rosservice call`\n",
    "\n",
    "    rosservice call /<your_duckiebot>/led_emitter_node/set_custom_pattern \"pattern: {color_list: ['green','yellow','pink','orange','blue'], color_mask: [1,1,1,1,1], frequency: 1.0, frequency_mask: [1,0,1,0,1]}\"\n",
    "\n",
    "How would you update the pattern so that your Duckiebot is signalling a left turn?\n",
    "\n",
    "Try playing with each field of the pattern to create different LED behaviors on your duckiebot.  "
   ]
  },
  {
   "cell_type": "markdown",
   "metadata": {},
   "source": [
    "## Next Up: Adding LED Patterns to an Agent\n",
    "\n",
    "Continue on to the [next notebook](./03_Adding-Agent-LED-Behaviors.ipynb) to integrate `LEDPattern` messages into your Duckiebot agent."
   ]
  }
 ],
 "metadata": {
  "kernelspec": {
   "display_name": "Python 3.8.10 64-bit",
   "language": "python",
   "name": "python3"
  },
  "language_info": {
   "codemirror_mode": {
    "name": "ipython",
    "version": 3
   },
   "file_extension": ".py",
   "mimetype": "text/x-python",
   "name": "python",
   "nbconvert_exporter": "python",
   "pygments_lexer": "ipython3",
   "version": "3.8.10"
  },
  "orig_nbformat": 4,
  "vscode": {
   "interpreter": {
    "hash": "916dbcbb3f70747c44a77c7bcd40155683ae19c65e1c03b4aa3499c5328201f1"
   }
  }
 },
 "nbformat": 4,
 "nbformat_minor": 2
}
